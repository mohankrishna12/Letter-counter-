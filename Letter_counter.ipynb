{
  "nbformat": 4,
  "nbformat_minor": 0,
  "metadata": {
    "colab": {
      "provenance": [],
      "authorship_tag": "ABX9TyOIlzaA0edHSkAZsBhcuB1o",
      "include_colab_link": true
    },
    "kernelspec": {
      "name": "python3",
      "display_name": "Python 3"
    },
    "language_info": {
      "name": "python"
    }
  },
  "cells": [
    {
      "cell_type": "markdown",
      "metadata": {
        "id": "view-in-github",
        "colab_type": "text"
      },
      "source": [
        "<a href=\"https://colab.research.google.com/github/mohankrishna12/Letter-counter-/blob/main/Letter_counter.ipynb\" target=\"_parent\"><img src=\"https://colab.research.google.com/assets/colab-badge.svg\" alt=\"Open In Colab\"/></a>"
      ]
    },
    {
      "cell_type": "code",
      "execution_count": null,
      "metadata": {
        "id": "rBJj0_EbUnYg"
      },
      "outputs": [],
      "source": [
        "# Letter Counter: Count each letter (A-Z) in the user’s sentence, ignoring case.\n",
        "\n",
        "# Step 1: Get a sentence from the user\n",
        "sentence = input(\"Type a sentence (English letters only): \")\n",
        "\n",
        "# Step 2: Convert the sentence to lowercase to ignore case (a/A are treated the same)\n",
        "sentence = sentence.lower()\n",
        "\n",
        "# Step 3: Create an empty dictionary to count letters\n",
        "letter_count = {}\n",
        "\n",
        "# Step 4: Loop over each character in the sentence\n",
        "for char in sentence:\n",
        "    if char.isalpha():  # Only count letters (skip spaces, punctuation, numbers)\n",
        "        if char in letter_count:\n",
        "            letter_count[char] += 1\n",
        "        else:\n",
        "            letter_count[char] = 1\n",
        "\n",
        "# Step 5: Print the counts for each letter (if there are any)\n",
        "print(\"Letter counts in your sentence:\")\n",
        "for letter in sorted(letter_count):\n",
        "    print(f\"{letter}: {letter_count[letter]}\")"
      ]
    }
  ]
}